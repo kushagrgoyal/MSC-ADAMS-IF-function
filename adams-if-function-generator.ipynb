{
 "cells": [
  {
   "cell_type": "markdown",
   "metadata": {},
   "source": [
    "# Code to generate function commands for MSC ADAMS\n",
    "#### This code gives an output expression that can be used as a **IF** function in MSC ADAMS software package."
   ]
  },
  {
   "cell_type": "code",
   "execution_count": 1,
   "metadata": {},
   "outputs": [],
   "source": [
    "# Importing required libraries\n",
    "import numpy as np\n",
    "\n",
    "import matplotlib.pyplot as plt\n",
    "import seaborn as sns\n",
    "sns.set_style('whitegrid')\n",
    "%matplotlib inline"
   ]
  },
  {
   "cell_type": "code",
   "execution_count": 2,
   "metadata": {},
   "outputs": [],
   "source": [
    "def IF_ADAMS(x, y, vals):\n",
    "    '''\n",
    "    Enter the x, y and vals values to generate a curve that may be imparted on a MOTION or FORCE.\n",
    "    x: x coodinates\n",
    "    y: y coordinates\n",
    "    vals: The actual values of motion in mm or degrees, or radians\n",
    "    \n",
    "    SAMPLE INPUT 1: Rotation\n",
    "    u, v: x, y coordinates fo curve\n",
    "    u = [i for i in np.arange(0, 3.5, 0.5)]\n",
    "    v = [0, 1, 0.764, 0.764, 0.764, 0, 0.764]\n",
    "    val = '85d'\n",
    "    IF_ADAMS(a, b, val)\n",
    "    \n",
    "    SAMPLE INPUT 2: Translation\n",
    "    u = [0.0, 1.0, 1.5, 2.0, 3.0]\n",
    "    v = [0.0, 0.0, 1.0, 0.0, 0.0]\n",
    "    val = '31.114'\n",
    "    IF_ADAMS(u, v, val)\n",
    "    \n",
    "    NOTE:\n",
    "    Please enter the maximum value for the input 'vals', i.e. if you need to move something by 100mm or 100 degrees, then give, 100 or 100d as the values for 'val'\n",
    "    Adjust the values of the y to get into different output values of the movement\n",
    "    '''\n",
    "    for i in range(len(x) - 1):\n",
    "        x_new = [x[i], x[i + 1]]\n",
    "        y_new = [y[i], y[i + 1]]\n",
    "\n",
    "        l = np.polyfit(x_new, y_new, 1)\n",
    "\n",
    "        func = np.poly1d(l, variable = 'time')\n",
    "        if len(list(func.coef)) < 2:        \n",
    "            func_text = '0'\n",
    "        else:\n",
    "            func_text = str(round(list(func.coef)[0], 3)) + ' * time + ' + str(round(list(func.coef)[1], 3))\n",
    "        \n",
    "        print(func)\n",
    "        print(list(zip(x_new, y_new)))\n",
    "\n",
    "        plt.scatter(x_new, y_new)\n",
    "        plt.plot(x_new, y_new)\n",
    "            \n",
    "        if i == 0:\n",
    "            to_adams = 'IF(time - ' + str(x[i + 1]) + ':' + ' <VALUE>*(' + func_text + '),' + ' <VALUE>*(' + func_text + '),'\n",
    "        elif i > 0 & i < (len(x) - 1):\n",
    "            to_adams = to_adams + ' IF(time - ' + str(x[i + 1]) + ':' + ' <VALUE>*(' + func_text + '),' + ' <VALUE>*(' + func_text + '),'\n",
    "        elif i == (len(x) - 1):\n",
    "            to_adams = to_adams + ' <VALUE>*(' + func_text + ')'\n",
    "    \n",
    "    to_adams = to_adams + ' <VALUE>*(' + func_text + ')'\n",
    "    to_adams = to_adams + (')' * (len(x) - 1))\n",
    "    to_adams = to_adams.replace('<VALUE>', vals)\n",
    "    \n",
    "    return to_adams"
   ]
  },
  {
   "cell_type": "code",
   "execution_count": 3,
   "metadata": {},
   "outputs": [
    {
     "name": "stdout",
     "output_type": "stream",
     "text": [
      " \n",
      "2 time + 1.582e-17\n",
      "[(0.0, 0), (0.5, 1)]\n",
      " \n",
      "-0.472 time + 1.236\n",
      "[(0.5, 1), (1.0, 0.764)]\n",
      " \n",
      "1.853e-16 time + 0.764\n",
      "[(1.0, 0.764), (1.5, 0.764)]\n",
      " \n",
      "2.561e-16 time + 0.764\n",
      "[(1.5, 0.764), (2.0, 0.764)]\n",
      " \n",
      "-1.528 time + 3.82\n",
      "[(2.0, 0.764), (2.5, 0)]\n",
      " \n",
      "1.528 time - 3.82\n",
      "[(2.5, 0), (3.0, 0.764)]\n"
     ]
    },
    {
     "data": {
      "text/plain": [
       "'IF(time - 0.5: 85d*(2.0 * time + 0.0), 85d*(2.0 * time + 0.0), IF(time - 1.0: 85d*(-0.472 * time + 1.236), 85d*(-0.472 * time + 1.236), IF(time - 1.5: 85d*(0.0 * time + 0.764), 85d*(0.0 * time + 0.764), IF(time - 2.0: 85d*(0.0 * time + 0.764), 85d*(0.0 * time + 0.764), IF(time - 2.5: 85d*(-1.528 * time + 3.82), 85d*(-1.528 * time + 3.82), IF(time - 3.0: 85d*(1.528 * time + -3.82), 85d*(1.528 * time + -3.82), 85d*(1.528 * time + -3.82)))))))'"
      ]
     },
     "execution_count": 3,
     "metadata": {},
     "output_type": "execute_result"
    },
    {
     "data": {
      "image/png": "[encoded data removed]",
      "text/plain": [
       "<Figure size 432x288 with 1 Axes>"
      ]
     },
     "metadata": {
      "needs_background": "light"
     },
     "output_type": "display_data"
    }
   ],
   "source": [
    "a = [i for i in np.arange(0, 3.5, 0.5)]\n",
    "b = [0, 1, 0.764, 0.764, 0.764, 0, 0.764]\n",
    "val = '85d'\n",
    "\n",
    "text = IF_ADAMS(a, b, val)\n",
    "text"
   ]
  },
  {
   "cell_type": "code",
   "execution_count": 4,
   "metadata": {},
   "outputs": [
    {
     "name": "stdout",
     "output_type": "stream",
     "text": [
      " \n",
      "0\n",
      "[(0.0, 0.0), (1.0, 0.0)]\n",
      " \n",
      "2 time - 2\n",
      "[(1.0, 0.0), (1.5, 1.0)]\n",
      " \n",
      "-2 time + 4\n",
      "[(1.5, 1.0), (2.0, 0.0)]\n",
      " \n",
      "0\n",
      "[(2.0, 0.0), (3.0, 0.0)]\n"
     ]
    },
    {
     "data": {
      "text/plain": [
       "'IF(time - 1.0: 31.114*(0), 31.114*(0), IF(time - 1.5: 31.114*(2.0 * time + -2.0), 31.114*(2.0 * time + -2.0), IF(time - 2.0: 31.114*(-2.0 * time + 4.0), 31.114*(-2.0 * time + 4.0), IF(time - 3.0: 31.114*(0), 31.114*(0), 31.114*(0)))))'"
      ]
     },
     "execution_count": 4,
     "metadata": {},
     "output_type": "execute_result"
    },
    {
     "data": {
      "image/png": "[encoded data removed]",
      "text/plain": [
       "<Figure size 432x288 with 1 Axes>"
      ]
     },
     "metadata": {
      "needs_background": "light"
     },
     "output_type": "display_data"
    }
   ],
   "source": [
    "plate_a = [0.0, 1.0, 1.5, 2.0, 3.0]\n",
    "plate_b = [0.0, 0.0, 1.0, 0.0, 0.0]\n",
    "plate_val = '31.114'\n",
    "\n",
    "IF_ADAMS(plate_a, plate_b, plate_val)"
   ]
  }
 ],
 "metadata": {
  "kernelspec": {
   "display_name": "Python 3",
   "language": "python",
   "name": "python3"
  },
  "language_info": {
   "codemirror_mode": {
    "name": "ipython",
    "version": 3
   },
   "file_extension": ".py",
   "mimetype": "text/x-python",
   "name": "python",
   "nbconvert_exporter": "python",
   "pygments_lexer": "ipython3",
   "version": "3.6.6"
  }
 },
 "nbformat": 4,
 "nbformat_minor": 1
}
